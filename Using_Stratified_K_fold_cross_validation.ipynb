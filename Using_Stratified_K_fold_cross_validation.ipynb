{
 "cells": [
  {
   "cell_type": "markdown",
   "id": "0ec699f6",
   "metadata": {},
   "source": [
    "In k-fold cross validation the training set is divided in to k-folds (k is an integer) in k iterations. One of the k-folds will be used for performance evaluation. k-1 folds will be used for training. We then calculate the average performance of the models based on the different, independent test folds to obtain a performance estimate. Example: if k-fold cross-validation with k = 10. The training dataset is divided into 10 folds, and during the 10 iterations, 9 folds are used for training, and 1 fold will be used as the test dataset for model evaluation."
   ]
  },
  {
   "cell_type": "markdown",
   "id": "59bcb841",
   "metadata": {},
   "source": [
    "Let's work with breast cancer data provided by Sci-kit learn"
   ]
  },
  {
   "cell_type": "markdown",
   "id": "963ef2d2",
   "metadata": {},
   "source": [
    "# Import breast cancer dataset from Sci-kit learn"
   ]
  },
  {
   "cell_type": "code",
   "execution_count": 22,
   "id": "95293972",
   "metadata": {},
   "outputs": [],
   "source": [
    "from sklearn import datasets\n",
    "breast = datasets.load_breast_cancer()"
   ]
  },
  {
   "cell_type": "markdown",
   "id": "890c2491",
   "metadata": {},
   "source": [
    "# Divide the dataset into train and test sets "
   ]
  },
  {
   "cell_type": "code",
   "execution_count": 23,
   "id": "8b0c8e66",
   "metadata": {},
   "outputs": [],
   "source": [
    "from sklearn.model_selection import train_test_split\n",
    "X = breast.data\n",
    "y = breast.target\n",
    "\n",
    "X_train, X_test, y_train, y_test = train_test_split(X, y,\n",
    "                 test_size=0.2, random_state=123, stratify=y)"
   ]
  },
  {
   "cell_type": "markdown",
   "id": "4dd46e59",
   "metadata": {},
   "source": [
    "# Make a pipeline"
   ]
  },
  {
   "cell_type": "markdown",
   "id": "f8200d47",
   "metadata": {},
   "source": [
    "Pipeline made up of transformers(PCA and StandardScaler) and an estimator(LogisticRegression)"
   ]
  },
  {
   "cell_type": "code",
   "execution_count": 24,
   "id": "7028d9ca",
   "metadata": {},
   "outputs": [],
   "source": [
    "from sklearn.linear_model import LogisticRegression\n",
    "from sklearn.decomposition import PCA\n",
    "from sklearn.preprocessing import StandardScaler\n",
    "from sklearn.pipeline import make_pipeline\n",
    "\n",
    "pipe_lr = make_pipeline(StandardScaler(),\n",
    "                        PCA(n_components=3),\n",
    "                        LogisticRegression())"
   ]
  },
  {
   "cell_type": "markdown",
   "id": "350056eb",
   "metadata": {},
   "source": [
    "# StratifiedKFold from Scikit learn"
   ]
  },
  {
   "cell_type": "code",
   "execution_count": 25,
   "id": "81ad33ac",
   "metadata": {},
   "outputs": [
    {
     "name": "stdout",
     "output_type": "stream",
     "text": [
      "fold: 1,accuracy: 0.91\n",
      "fold: 2,accuracy: 1.00\n",
      "fold: 3,accuracy: 0.98\n",
      "fold: 4,accuracy: 0.98\n",
      "fold: 5,accuracy: 0.96\n",
      "fold: 6,accuracy: 0.96\n",
      "fold: 7,accuracy: 0.93\n",
      "fold: 8,accuracy: 0.91\n",
      "fold: 9,accuracy: 0.96\n",
      "fold: 10,accuracy: 0.89\n"
     ]
    }
   ],
   "source": [
    "import numpy as np \n",
    "from sklearn.model_selection import StratifiedKFold  #StratifiedKFold is used instead of the standard KFold \n",
    "                                                     #to ensure that each fold is representative of the class proportions\n",
    "                                                     # in the training dataset \n",
    "\n",
    "kfold = StratifiedKFold(n_splits=10).split(X_train, y_train) #specified the number of folds via the n_splits\n",
    "\n",
    "scores = []   #list to calculate the average accuracy and the standard deviation of the estimate.\n",
    "\n",
    "for k, (train_folds, test_fold) in enumerate(kfold):\n",
    "    pipe_lr.fit(X_train[train_folds], y_train[train_folds])\n",
    "    score = pipe_lr.score(X_train[test_fold], y_train[test_fold])\n",
    "    scores.append(score)\n",
    "    \n",
    "    print(f'fold: {k+1},'\n",
    "          f'accuracy: {score:.2f}')\n"
   ]
  },
  {
   "cell_type": "markdown",
   "id": "a2039fc5",
   "metadata": {},
   "source": [
    "#  calculate the accuracy score of the model"
   ]
  },
  {
   "cell_type": "code",
   "execution_count": 26,
   "id": "79547510",
   "metadata": {},
   "outputs": [
    {
     "name": "stdout",
     "output_type": "stream",
     "text": [
      " Accuracy: 0.95, +/- 0.03\n"
     ]
    }
   ],
   "source": [
    "mean_acc = np.mean(scores)\n",
    "std_acc = np.std(scores)\n",
    "\n",
    "print(f\" Accuracy: {mean_acc:.2f}, +/- {std_acc:.2f}\")"
   ]
  },
  {
   "cell_type": "code",
   "execution_count": null,
   "id": "64956869",
   "metadata": {},
   "outputs": [],
   "source": []
  }
 ],
 "metadata": {
  "kernelspec": {
   "display_name": "Python 3 (ipykernel)",
   "language": "python",
   "name": "python3"
  },
  "language_info": {
   "codemirror_mode": {
    "name": "ipython",
    "version": 3
   },
   "file_extension": ".py",
   "mimetype": "text/x-python",
   "name": "python",
   "nbconvert_exporter": "python",
   "pygments_lexer": "ipython3",
   "version": "3.9.7"
  },
  "toc": {
   "base_numbering": 1,
   "nav_menu": {},
   "number_sections": true,
   "sideBar": true,
   "skip_h1_title": false,
   "title_cell": "Table of Contents",
   "title_sidebar": "Contents",
   "toc_cell": false,
   "toc_position": {},
   "toc_section_display": true,
   "toc_window_display": false
  }
 },
 "nbformat": 4,
 "nbformat_minor": 5
}
