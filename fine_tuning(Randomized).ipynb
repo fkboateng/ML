{
 "cells": [
  {
   "cell_type": "code",
   "execution_count": 64,
   "id": "a629374a",
   "metadata": {},
   "outputs": [],
   "source": [
    "import numpy as np  \n",
    "\n",
    "#import the breast cancer dataset from sklearn\n",
    "from sklearn import datasets\n",
    "breast = datasets.load_breast_cancer()     "
   ]
  },
  {
   "cell_type": "code",
   "execution_count": 65,
   "id": "a71ea6f2",
   "metadata": {},
   "outputs": [],
   "source": [
    "# divide the training dataset into train and test datasets\n",
    "\n",
    "from sklearn.model_selection import train_test_split\n",
    "X = breast.data\n",
    "y = breast.target\n",
    "\n",
    "X_train, X_test, y_train, y_test = train_test_split(X, y,\n",
    "                 test_size=0.2, random_state=123, stratify=y)"
   ]
  },
  {
   "cell_type": "code",
   "execution_count": 66,
   "id": "d80b73ec",
   "metadata": {},
   "outputs": [],
   "source": [
    "# import the required libraries\n",
    "from sklearn.model_selection import RandomizedSearchCV\n",
    "from sklearn.pipeline import make_pipeline\n",
    "from sklearn.svm import SVC\n",
    "from sklearn.preprocessing import StandardScaler\n"
   ]
  },
  {
   "cell_type": "code",
   "execution_count": 67,
   "id": "a1beb34d",
   "metadata": {},
   "outputs": [
    {
     "data": {
      "text/plain": [
       "array([8.30145146e-02, 1.10222804e+01, 1.00184520e-04, 1.30715777e-02,\n",
       "       1.06485687e-03, 4.42965766e-04, 2.01289666e-03, 2.62376594e-02,\n",
       "       5.98924832e-02, 5.91176467e-01])"
      ]
     },
     "execution_count": 67,
     "metadata": {},
     "output_type": "execute_result"
    }
   ],
   "source": [
    "import scipy.stats\n",
    "\n",
    "param_range = scipy.stats.loguniform(0.0001, 1000.0)\n",
    "\n",
    "np.random.seed(1)\n",
    "param_range.rvs(10)"
   ]
  },
  {
   "cell_type": "code",
   "execution_count": null,
   "id": "2bf46fa3",
   "metadata": {},
   "outputs": [],
   "source": []
  },
  {
   "cell_type": "code",
   "execution_count": null,
   "id": "81dad362",
   "metadata": {},
   "outputs": [],
   "source": []
  },
  {
   "cell_type": "code",
   "execution_count": 68,
   "id": "78d748b3",
   "metadata": {},
   "outputs": [
    {
     "name": "stdout",
     "output_type": "stream",
     "text": [
      "{'svc__C': 1.0663406171985417, 'svc__kernel': 'linear'}\n",
      "0.9780676328502416\n"
     ]
    }
   ],
   "source": [
    "param_grid = [{'svc__C':param_range,\n",
    "              'svc__kernel':['linear']},\n",
    "             {'svc__C':param_range,\n",
    "              'svc__gamma':param_range,\n",
    "              'svc__kernel':['rbf']}]           \n",
    "             \n",
    "\n",
    "pipe_svc = make_pipeline(StandardScaler(),\n",
    "                         SVC(random_state=1))\n",
    "\n",
    "rs = RandomizedSearchCV(estimator=pipe_svc,\n",
    "                        param_distributions=param_grid,\n",
    "                        scoring='accuracy',\n",
    "                        n_iter=30,\n",
    "                        n_jobs=-1,\n",
    "                        random_state=5,\n",
    "                        refit=True,                \n",
    "                        cv=10)\n",
    "rs.fit(X_train, y_train)\n",
    "print(rs.best_params_)\n",
    "print(rs.best_score_)"
   ]
  },
  {
   "cell_type": "code",
   "execution_count": 69,
   "id": "0816bd68",
   "metadata": {},
   "outputs": [
    {
     "name": "stdout",
     "output_type": "stream",
     "text": [
      "Accuracy = 0.96\n"
     ]
    }
   ],
   "source": [
    "clfr = rs.best_estimator_\n",
    "clfr.fit(X_train, y_train)\n",
    "\n",
    "print(f\"Accuracy = {clfr.score(X_test, y_test):.2f}\")"
   ]
  }
 ],
 "metadata": {
  "kernelspec": {
   "display_name": "Python 3 (ipykernel)",
   "language": "python",
   "name": "python3"
  },
  "language_info": {
   "codemirror_mode": {
    "name": "ipython",
    "version": 3
   },
   "file_extension": ".py",
   "mimetype": "text/x-python",
   "name": "python",
   "nbconvert_exporter": "python",
   "pygments_lexer": "ipython3",
   "version": "3.9.7"
  },
  "toc": {
   "base_numbering": 1,
   "nav_menu": {},
   "number_sections": true,
   "sideBar": true,
   "skip_h1_title": false,
   "title_cell": "Table of Contents",
   "title_sidebar": "Contents",
   "toc_cell": false,
   "toc_position": {},
   "toc_section_display": true,
   "toc_window_display": false
  }
 },
 "nbformat": 4,
 "nbformat_minor": 5
}
