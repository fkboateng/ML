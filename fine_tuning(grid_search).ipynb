{
 "cells": [
  {
   "cell_type": "code",
   "execution_count": 20,
   "id": "382c3fe9",
   "metadata": {},
   "outputs": [],
   "source": [
    "import numpy as np  \n",
    "\n",
    "#import the breast cancer dataset from sklearn\n",
    "from sklearn import datasets\n",
    "breast = datasets.load_breast_cancer()     "
   ]
  },
  {
   "cell_type": "code",
   "execution_count": 21,
   "id": "d74abedc",
   "metadata": {},
   "outputs": [],
   "source": [
    "# divide the training dataset into train and test datasets\n",
    "\n",
    "from sklearn.model_selection import train_test_split\n",
    "X = breast.data\n",
    "y = breast.target\n",
    "\n",
    "X_train, X_test, y_train, y_test = train_test_split(X, y,\n",
    "                 test_size=0.2, random_state=123, stratify=y)"
   ]
  },
  {
   "cell_type": "code",
   "execution_count": 22,
   "id": "bc05bedf",
   "metadata": {},
   "outputs": [],
   "source": [
    "# import the required libraries\n",
    "from sklearn.model_selection import GridSearchCV\n",
    "from sklearn.pipeline import make_pipeline\n",
    "from sklearn.svm import SVC\n",
    "from sklearn.preprocessing import StandardScaler\n"
   ]
  },
  {
   "cell_type": "code",
   "execution_count": 23,
   "id": "7e1d8682",
   "metadata": {},
   "outputs": [
    {
     "name": "stdout",
     "output_type": "stream",
     "text": [
      "0.9845893719806764\n",
      "{'svc__C': 10.0, 'svc__gamma': 0.01, 'svc__kernel': 'rbf'}\n"
     ]
    }
   ],
   "source": [
    "# make a pipeline\n",
    "pipe_svc = make_pipeline(StandardScaler(), \n",
    "                         SVC(random_state=23))\n",
    "\n",
    "# create a range of numbers for the C \n",
    "param_range = [0.0001, 0.001, 0.01, 0.1, 1.0, 10.0, 100.0, 1000.0]\n",
    "\n",
    "param_grid = [{'svc__C': param_range, \n",
    "               'svc__kernel': ['linear']},\n",
    "              {'svc__C': param_range, \n",
    "               'svc__gamma': param_range, \n",
    "               'svc__kernel': ['rbf']}]\n",
    "\n",
    "gs = GridSearchCV(estimator=pipe_svc, \n",
    "                  param_grid=param_grid, \n",
    "                  scoring='accuracy', \n",
    "                  refit=True,\n",
    "                  cv=10)\n",
    "\n",
    "gs = gs.fit(X_train, y_train)\n",
    "print(gs.best_score_)        #to get the best score\n",
    "print(gs.best_params_)       # to get the chosen parameters"
   ]
  },
  {
   "cell_type": "code",
   "execution_count": 24,
   "id": "655e7313",
   "metadata": {},
   "outputs": [
    {
     "name": "stdout",
     "output_type": "stream",
     "text": [
      "Accuracy = 0.98\n"
     ]
    }
   ],
   "source": [
    "clfr = gs.best_estimator_\n",
    "clfr.fit(X_train, y_train) #train the full training dataset with the \n",
    "                           #best estimators from the grid search\n",
    "\n",
    "print(f'Accuracy = {clfr.score(X_test, y_test):.2f}') # find how well the model generalize on a new dataset"
   ]
  }
 ],
 "metadata": {
  "kernelspec": {
   "display_name": "Python 3 (ipykernel)",
   "language": "python",
   "name": "python3"
  },
  "language_info": {
   "codemirror_mode": {
    "name": "ipython",
    "version": 3
   },
   "file_extension": ".py",
   "mimetype": "text/x-python",
   "name": "python",
   "nbconvert_exporter": "python",
   "pygments_lexer": "ipython3",
   "version": "3.9.7"
  },
  "toc": {
   "base_numbering": 1,
   "nav_menu": {},
   "number_sections": true,
   "sideBar": true,
   "skip_h1_title": false,
   "title_cell": "Table of Contents",
   "title_sidebar": "Contents",
   "toc_cell": false,
   "toc_position": {},
   "toc_section_display": true,
   "toc_window_display": false
  }
 },
 "nbformat": 4,
 "nbformat_minor": 5
}
